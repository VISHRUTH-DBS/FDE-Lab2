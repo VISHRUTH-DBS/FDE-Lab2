{
  "nbformat": 4,
  "nbformat_minor": 0,
  "metadata": {
    "colab": {
      "provenance": []
    },
    "kernelspec": {
      "name": "python3",
      "display_name": "Python 3"
    },
    "language_info": {
      "name": "python"
    }
  },
  "cells": [
    {
      "cell_type": "code",
      "source": [
        "# -------------------------------\n",
        "# Stage 1: Business Analyst Task\n",
        "# -------------------------------\n",
        "# Business Question: What are the top 5 products by revenue in the last quarter, and how does customer sentiment vary for these products?\n",
        "# Required data points: product_id, sale_price, quantity, sale_date, customer_id, sentiment_score"
      ],
      "metadata": {
        "id": "sLKImarqzjiN"
      },
      "execution_count": 15,
      "outputs": []
    },
    {
      "cell_type": "code",
      "execution_count": 4,
      "metadata": {
        "id": "4RWapFJ7xtbs"
      },
      "outputs": [],
      "source": [
        "import pandas as pd\n",
        "import matplotlib.pyplot as plt\n",
        "import os"
      ]
    },
    {
      "cell_type": "code",
      "source": [
        "# Ensure directory structure"
      ],
      "metadata": {
        "id": "dXJPWhQXzwm4"
      },
      "execution_count": 17,
      "outputs": []
    },
    {
      "cell_type": "code",
      "source": [
        "os.makedirs(\"data_warehouse\", exist_ok=True)"
      ],
      "metadata": {
        "id": "ESk8TwNAyC04"
      },
      "execution_count": 2,
      "outputs": []
    },
    {
      "cell_type": "code",
      "source": [
        "# -------------------------------\n",
        "# Stage 2: Data Engineer Task\n",
        "# -------------------------------"
      ],
      "metadata": {
        "id": "HDnQ3G0pzpox"
      },
      "execution_count": 16,
      "outputs": []
    },
    {
      "cell_type": "code",
      "source": [
        "# 1. Ingestion"
      ],
      "metadata": {
        "id": "abgU-l-i0FY4"
      },
      "execution_count": 18,
      "outputs": []
    },
    {
      "cell_type": "code",
      "source": [
        "sales_df = pd.read_csv(\"sale_price.csv\")\n",
        "feedback_df = pd.read_json(\"customer_feedback.json\")"
      ],
      "metadata": {
        "id": "UbMDRjp_yMbt"
      },
      "execution_count": 5,
      "outputs": []
    },
    {
      "cell_type": "code",
      "source": [
        "# 2. Cleansing\n",
        "\n",
        "# Remove '$' and convert sale_price to float\n",
        "sales_df['sale_price'] = sales_df['sale_price'].replace('[\\$,]', '', regex=True).astype(float)"
      ],
      "metadata": {
        "id": "eA2INrYwyrqs"
      },
      "execution_count": 6,
      "outputs": []
    },
    {
      "cell_type": "code",
      "source": [
        "# Fill missing quantity with 1 (default)\n",
        "sales_df['quantity'] = sales_df['quantity'].fillna(1).astype(int)"
      ],
      "metadata": {
        "id": "UqESEd8xy2Nh"
      },
      "execution_count": 7,
      "outputs": []
    },
    {
      "cell_type": "code",
      "source": [
        "# Standardize date format\n",
        "sales_df['sale_date'] = pd.to_datetime(sales_df['sale_date'], format='mixed', errors='coerce')\n",
        "feedback_df['review_date'] = pd.to_datetime(feedback_df['review_date'], format='mixed', errors='coerce')"
      ],
      "metadata": {
        "id": "qsbAWKPpy7jM"
      },
      "execution_count": 8,
      "outputs": []
    },
    {
      "cell_type": "code",
      "source": [
        "# 3. Transformation\n",
        "\n",
        "# Compute total revenue\n",
        "sales_df['total_revenue'] = sales_df['sale_price'] * sales_df['quantity']"
      ],
      "metadata": {
        "id": "-KOvTNBhy9ra"
      },
      "execution_count": 9,
      "outputs": []
    },
    {
      "cell_type": "code",
      "source": [
        "# Keep the latest feedback entry per (product_id, customer_id)\n",
        "feedback_df = feedback_df.sort_values('review_date').drop_duplicates(\n",
        "    subset=['product_id', 'customer_id'], keep='last'\n",
        ")"
      ],
      "metadata": {
        "id": "dvGTqvSYzEbO"
      },
      "execution_count": 10,
      "outputs": []
    },
    {
      "cell_type": "code",
      "source": [
        "# Merge sales and feedback\n",
        "merged_df = pd.merge(sales_df, feedback_df, on=['product_id', 'customer_id'], how='left')"
      ],
      "metadata": {
        "id": "6OsIQ8y2zGgs"
      },
      "execution_count": 11,
      "outputs": []
    },
    {
      "cell_type": "code",
      "source": [
        "# Remove rows where sale_price is 0 or review_date is missing\n",
        "merged_df = merged_df[(merged_df['sale_price'] > 0) & (merged_df['review_date'].notna())]"
      ],
      "metadata": {
        "id": "kSgg1ISQzIqz"
      },
      "execution_count": 12,
      "outputs": []
    },
    {
      "cell_type": "code",
      "source": [
        "# 4. Loading to warehouse\n",
        "processed_path = \"data_warehouse/processed_sales_data.csv\"\n",
        "merged_df.to_csv(processed_path, index=False)"
      ],
      "metadata": {
        "id": "m9JdI2ZCzLX5"
      },
      "execution_count": 13,
      "outputs": []
    },
    {
      "cell_type": "code",
      "source": [
        "print(f\"Processed data saved to {processed_path}\")"
      ],
      "metadata": {
        "colab": {
          "base_uri": "https://localhost:8080/"
        },
        "id": "wKWWwUchzOTL",
        "outputId": "f42f061a-5568-4be7-d1b8-ca06c3c41826"
      },
      "execution_count": 14,
      "outputs": [
        {
          "output_type": "stream",
          "name": "stdout",
          "text": [
            "Processed data saved to data_warehouse/processed_sales_data.csv\n"
          ]
        }
      ]
    },
    {
      "cell_type": "code",
      "source": [],
      "metadata": {
        "id": "Ngb9Ie7EzQGr"
      },
      "execution_count": null,
      "outputs": []
    }
  ]
}